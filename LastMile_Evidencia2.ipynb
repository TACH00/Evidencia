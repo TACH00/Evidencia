{
  "nbformat": 4,
  "nbformat_minor": 0,
  "metadata": {
    "colab": {
      "provenance": [],
      "include_colab_link": true
    },
    "kernelspec": {
      "name": "python3",
      "display_name": "Python 3"
    },
    "language_info": {
      "name": "python"
    }
  },
  "cells": [
    {
      "cell_type": "markdown",
      "metadata": {
        "id": "view-in-github",
        "colab_type": "text"
      },
      "source": [
        "<a href=\"https://colab.research.google.com/github/TACH00/Evidencia/blob/main/LastMile_Evidencia2.ipynb\" target=\"_parent\"><img src=\"https://colab.research.google.com/assets/colab-badge.svg\" alt=\"Open In Colab\"/></a>"
      ]
    },
    {
      "cell_type": "code",
      "source": [
        "#Instalamos librería para análisis de variables categóricas\n",
        "%pip install funpymodeling"
      ],
      "metadata": {
        "id": "hkR2Xfwm8NJW"
      },
      "execution_count": null,
      "outputs": []
    },
    {
      "cell_type": "code",
      "execution_count": 68,
      "metadata": {
        "id": "EnV4YmOUxYYu"
      },
      "outputs": [],
      "source": [
        "#Importamos las librerias pandas, numpy y matplotlib respectivamente\n",
        "import pandas as pd\n",
        "import numpy as np\n",
        "import matplotlib.pyplot as plt\n",
        "import scipy.special as special\n",
        "from scipy.optimize import curve_fit\n",
        "import seaborn as sns\n",
        "from sklearn.metrics import r2_score\n",
        "from sklearn.model_selection import train_test_split\n",
        "from sklearn.preprocessing import StandardScaler\n",
        "from funpymodeling.exploratory import freq_tbl"
      ]
    },
    {
      "cell_type": "code",
      "source": [
        "#Cargar archivo excel desde equipo\n",
        "from google.colab import files\n",
        "files.upload()"
      ],
      "metadata": {
        "id": "hN3ENkDzyLVb"
      },
      "execution_count": null,
      "outputs": []
    },
    {
      "cell_type": "code",
      "source": [
        "#Carga desde un archivo excel sin indice \n",
        "data= pd.read_excel('lastmile_delivery_operations_mit_lift_lab.xlsx')"
      ],
      "metadata": {
        "id": "mgwq_6bLy3RL"
      },
      "execution_count": 35,
      "outputs": []
    },
    {
      "cell_type": "code",
      "source": [
        "#Verificamos información del Dataframe\n",
        "data.info()"
      ],
      "metadata": {
        "colab": {
          "base_uri": "https://localhost:8080/"
        },
        "id": "kAKslcvv0DmQ",
        "outputId": "75c5ad97-2231-464c-f0be-d419fe0ad34f"
      },
      "execution_count": 36,
      "outputs": [
        {
          "output_type": "stream",
          "name": "stdout",
          "text": [
            "<class 'pandas.core.frame.DataFrame'>\n",
            "RangeIndex: 390 entries, 0 to 389\n",
            "Data columns (total 30 columns):\n",
            " #   Column                                         Non-Null Count  Dtype  \n",
            "---  ------                                         --------------  -----  \n",
            " 0   _record_id                                     390 non-null    object \n",
            " 1   _title                                         380 non-null    object \n",
            " 2   _server_updated_at                             390 non-null    object \n",
            " 3   _created_by                                    390 non-null    object \n",
            " 4   _updated_by                                    390 non-null    object \n",
            " 5   _geometry                                      390 non-null    object \n",
            " 6   _latitude                                      390 non-null    float64\n",
            " 7   _longitude                                     390 non-null    float64\n",
            " 8   arrival_of_the_freight_vehicle                 390 non-null    object \n",
            " 9   plates                                         389 non-null    object \n",
            " 10  company_if_visible                             235 non-null    object \n",
            " 11  visit_purpose                                  390 non-null    object \n",
            " 12  type_of_vehicle                                390 non-null    object \n",
            " 13  number_of_operators                            390 non-null    int64  \n",
            " 14  refrigerated_truck                             390 non-null    object \n",
            " 15  type_of_cargo                                  389 non-null    object \n",
            " 16  picture_of_the_parked_freight_vehicle          390 non-null    object \n",
            " 17  departure_of_the_freight_vehicle               390 non-null    object \n",
            " 18  where_was_the_vehicle_parked                   390 non-null    object \n",
            " 19  while_parked_was_the_engine_running            390 non-null    object \n",
            " 20  used_traffic_cone                              390 non-null    object \n",
            " 21  vehicles_unloading_door                        390 non-null    object \n",
            " 22  number_of_available_trolleys                   390 non-null    int64  \n",
            " 23  serving_customer                               98 non-null     float64\n",
            " 24  garage_blocking                                390 non-null    object \n",
            " 25  accident                                       390 non-null    object \n",
            " 26  describe_the_accident                          0 non-null      float64\n",
            " 27  noise                                          390 non-null    object \n",
            " 28  traffic_congestion                             390 non-null    object \n",
            " 29  maximum_number_of_vehicles_in_the_traffic_jam  6 non-null      float64\n",
            "dtypes: float64(5), int64(2), object(23)\n",
            "memory usage: 91.5+ KB\n"
          ]
        }
      ]
    },
    {
      "cell_type": "code",
      "source": [
        "#Corroboramos valores nulos \n",
        "valores_nulos=data.isnull().sum()\n",
        "valores_nulos"
      ],
      "metadata": {
        "colab": {
          "base_uri": "https://localhost:8080/"
        },
        "id": "P03VOuer0Nbj",
        "outputId": "3ad54608-319b-4841-b0fa-cf352600cb84"
      },
      "execution_count": 37,
      "outputs": [
        {
          "output_type": "execute_result",
          "data": {
            "text/plain": [
              "_record_id                                         0\n",
              "_title                                            10\n",
              "_server_updated_at                                 0\n",
              "_created_by                                        0\n",
              "_updated_by                                        0\n",
              "_geometry                                          0\n",
              "_latitude                                          0\n",
              "_longitude                                         0\n",
              "arrival_of_the_freight_vehicle                     0\n",
              "plates                                             1\n",
              "company_if_visible                               155\n",
              "visit_purpose                                      0\n",
              "type_of_vehicle                                    0\n",
              "number_of_operators                                0\n",
              "refrigerated_truck                                 0\n",
              "type_of_cargo                                      1\n",
              "picture_of_the_parked_freight_vehicle              0\n",
              "departure_of_the_freight_vehicle                   0\n",
              "where_was_the_vehicle_parked                       0\n",
              "while_parked_was_the_engine_running                0\n",
              "used_traffic_cone                                  0\n",
              "vehicles_unloading_door                            0\n",
              "number_of_available_trolleys                       0\n",
              "serving_customer                                 292\n",
              "garage_blocking                                    0\n",
              "accident                                           0\n",
              "describe_the_accident                            390\n",
              "noise                                              0\n",
              "traffic_congestion                                 0\n",
              "maximum_number_of_vehicles_in_the_traffic_jam    384\n",
              "dtype: int64"
            ]
          },
          "metadata": {},
          "execution_count": 37
        }
      ]
    },
    {
      "cell_type": "code",
      "source": [
        "data.head(3)"
      ],
      "metadata": {
        "colab": {
          "base_uri": "https://localhost:8080/",
          "height": 393
        },
        "id": "t-Lytvx50vRb",
        "outputId": "a47149c4-821d-4f1c-f316-5c73497ae320"
      },
      "execution_count": 38,
      "outputs": [
        {
          "output_type": "execute_result",
          "data": {
            "text/plain": [
              "                             _record_id  \\\n",
              "0  1e369271-598a-464c-aec7-1913e82dc2b7   \n",
              "1  4a749c00-7c5f-45cf-8950-aa988a0d41b8   \n",
              "2  c58a450d-fe1f-4a16-a8d8-764ebd8c49a4   \n",
              "\n",
              "                                              _title       _server_updated_at  \\\n",
              "0  78 Avenida Orión Sur\\nTlaxcalancingo Puebla 72...  2022-11-27 22:14:32 UTC   \n",
              "1  581 Avenida Orión Sur\\nTlaxcalancingo Puebla 7...  2022-11-27 22:14:31 UTC   \n",
              "2  4483 Calle Camino Real a Cholula\\nSan Bernardi...  2022-11-27 20:12:39 UTC   \n",
              "\n",
              "                   _created_by                  _updated_by  \\\n",
              "0  Adriel Antonio Huerta Vidal  Adriel Antonio Huerta Vidal   \n",
              "1  Adriel Antonio Huerta Vidal  Adriel Antonio Huerta Vidal   \n",
              "2                María Pedraza                María Pedraza   \n",
              "\n",
              "                                       _geometry  _latitude  _longitude  \\\n",
              "0        SRID=4326;POINT(-98.2603919 19.0213764)  19.021376  -98.260392   \n",
              "1        SRID=4326;POINT(-98.2605677 19.0211113)  19.021111  -98.260568   \n",
              "2  SRID=4326;POINT(-98.2670348883 19.0352214575)  19.035221  -98.267035   \n",
              "\n",
              "  arrival_of_the_freight_vehicle   plates  ... used_traffic_cone  \\\n",
              "0                          15:35   21TFP4  ...                no   \n",
              "1                          15:12   19TES7  ...                no   \n",
              "2                          13:50  Sm49187  ...                no   \n",
              "\n",
              "  vehicles_unloading_door number_of_available_trolleys  serving_customer  \\\n",
              "0                    Rear                            0               NaN   \n",
              "1                    Rear                            0               NaN   \n",
              "2                    Rear                            0               NaN   \n",
              "\n",
              "  garage_blocking accident describe_the_accident noise traffic_congestion  \\\n",
              "0              no       no                   NaN    no                 no   \n",
              "1              no       no                   NaN    no                 no   \n",
              "2              no       no                   NaN    no                yes   \n",
              "\n",
              "  maximum_number_of_vehicles_in_the_traffic_jam  \n",
              "0                                           NaN  \n",
              "1                                           NaN  \n",
              "2                                           NaN  \n",
              "\n",
              "[3 rows x 30 columns]"
            ],
            "text/html": [
              "\n",
              "  <div id=\"df-b20aa8c4-152e-403f-91ed-c089dde50006\">\n",
              "    <div class=\"colab-df-container\">\n",
              "      <div>\n",
              "<style scoped>\n",
              "    .dataframe tbody tr th:only-of-type {\n",
              "        vertical-align: middle;\n",
              "    }\n",
              "\n",
              "    .dataframe tbody tr th {\n",
              "        vertical-align: top;\n",
              "    }\n",
              "\n",
              "    .dataframe thead th {\n",
              "        text-align: right;\n",
              "    }\n",
              "</style>\n",
              "<table border=\"1\" class=\"dataframe\">\n",
              "  <thead>\n",
              "    <tr style=\"text-align: right;\">\n",
              "      <th></th>\n",
              "      <th>_record_id</th>\n",
              "      <th>_title</th>\n",
              "      <th>_server_updated_at</th>\n",
              "      <th>_created_by</th>\n",
              "      <th>_updated_by</th>\n",
              "      <th>_geometry</th>\n",
              "      <th>_latitude</th>\n",
              "      <th>_longitude</th>\n",
              "      <th>arrival_of_the_freight_vehicle</th>\n",
              "      <th>plates</th>\n",
              "      <th>...</th>\n",
              "      <th>used_traffic_cone</th>\n",
              "      <th>vehicles_unloading_door</th>\n",
              "      <th>number_of_available_trolleys</th>\n",
              "      <th>serving_customer</th>\n",
              "      <th>garage_blocking</th>\n",
              "      <th>accident</th>\n",
              "      <th>describe_the_accident</th>\n",
              "      <th>noise</th>\n",
              "      <th>traffic_congestion</th>\n",
              "      <th>maximum_number_of_vehicles_in_the_traffic_jam</th>\n",
              "    </tr>\n",
              "  </thead>\n",
              "  <tbody>\n",
              "    <tr>\n",
              "      <th>0</th>\n",
              "      <td>1e369271-598a-464c-aec7-1913e82dc2b7</td>\n",
              "      <td>78 Avenida Orión Sur\\nTlaxcalancingo Puebla 72...</td>\n",
              "      <td>2022-11-27 22:14:32 UTC</td>\n",
              "      <td>Adriel Antonio Huerta Vidal</td>\n",
              "      <td>Adriel Antonio Huerta Vidal</td>\n",
              "      <td>SRID=4326;POINT(-98.2603919 19.0213764)</td>\n",
              "      <td>19.021376</td>\n",
              "      <td>-98.260392</td>\n",
              "      <td>15:35</td>\n",
              "      <td>21TFP4</td>\n",
              "      <td>...</td>\n",
              "      <td>no</td>\n",
              "      <td>Rear</td>\n",
              "      <td>0</td>\n",
              "      <td>NaN</td>\n",
              "      <td>no</td>\n",
              "      <td>no</td>\n",
              "      <td>NaN</td>\n",
              "      <td>no</td>\n",
              "      <td>no</td>\n",
              "      <td>NaN</td>\n",
              "    </tr>\n",
              "    <tr>\n",
              "      <th>1</th>\n",
              "      <td>4a749c00-7c5f-45cf-8950-aa988a0d41b8</td>\n",
              "      <td>581 Avenida Orión Sur\\nTlaxcalancingo Puebla 7...</td>\n",
              "      <td>2022-11-27 22:14:31 UTC</td>\n",
              "      <td>Adriel Antonio Huerta Vidal</td>\n",
              "      <td>Adriel Antonio Huerta Vidal</td>\n",
              "      <td>SRID=4326;POINT(-98.2605677 19.0211113)</td>\n",
              "      <td>19.021111</td>\n",
              "      <td>-98.260568</td>\n",
              "      <td>15:12</td>\n",
              "      <td>19TES7</td>\n",
              "      <td>...</td>\n",
              "      <td>no</td>\n",
              "      <td>Rear</td>\n",
              "      <td>0</td>\n",
              "      <td>NaN</td>\n",
              "      <td>no</td>\n",
              "      <td>no</td>\n",
              "      <td>NaN</td>\n",
              "      <td>no</td>\n",
              "      <td>no</td>\n",
              "      <td>NaN</td>\n",
              "    </tr>\n",
              "    <tr>\n",
              "      <th>2</th>\n",
              "      <td>c58a450d-fe1f-4a16-a8d8-764ebd8c49a4</td>\n",
              "      <td>4483 Calle Camino Real a Cholula\\nSan Bernardi...</td>\n",
              "      <td>2022-11-27 20:12:39 UTC</td>\n",
              "      <td>María Pedraza</td>\n",
              "      <td>María Pedraza</td>\n",
              "      <td>SRID=4326;POINT(-98.2670348883 19.0352214575)</td>\n",
              "      <td>19.035221</td>\n",
              "      <td>-98.267035</td>\n",
              "      <td>13:50</td>\n",
              "      <td>Sm49187</td>\n",
              "      <td>...</td>\n",
              "      <td>no</td>\n",
              "      <td>Rear</td>\n",
              "      <td>0</td>\n",
              "      <td>NaN</td>\n",
              "      <td>no</td>\n",
              "      <td>no</td>\n",
              "      <td>NaN</td>\n",
              "      <td>no</td>\n",
              "      <td>yes</td>\n",
              "      <td>NaN</td>\n",
              "    </tr>\n",
              "  </tbody>\n",
              "</table>\n",
              "<p>3 rows × 30 columns</p>\n",
              "</div>\n",
              "      <button class=\"colab-df-convert\" onclick=\"convertToInteractive('df-b20aa8c4-152e-403f-91ed-c089dde50006')\"\n",
              "              title=\"Convert this dataframe to an interactive table.\"\n",
              "              style=\"display:none;\">\n",
              "        \n",
              "  <svg xmlns=\"http://www.w3.org/2000/svg\" height=\"24px\"viewBox=\"0 0 24 24\"\n",
              "       width=\"24px\">\n",
              "    <path d=\"M0 0h24v24H0V0z\" fill=\"none\"/>\n",
              "    <path d=\"M18.56 5.44l.94 2.06.94-2.06 2.06-.94-2.06-.94-.94-2.06-.94 2.06-2.06.94zm-11 1L8.5 8.5l.94-2.06 2.06-.94-2.06-.94L8.5 2.5l-.94 2.06-2.06.94zm10 10l.94 2.06.94-2.06 2.06-.94-2.06-.94-.94-2.06-.94 2.06-2.06.94z\"/><path d=\"M17.41 7.96l-1.37-1.37c-.4-.4-.92-.59-1.43-.59-.52 0-1.04.2-1.43.59L10.3 9.45l-7.72 7.72c-.78.78-.78 2.05 0 2.83L4 21.41c.39.39.9.59 1.41.59.51 0 1.02-.2 1.41-.59l7.78-7.78 2.81-2.81c.8-.78.8-2.07 0-2.86zM5.41 20L4 18.59l7.72-7.72 1.47 1.35L5.41 20z\"/>\n",
              "  </svg>\n",
              "      </button>\n",
              "      \n",
              "  <style>\n",
              "    .colab-df-container {\n",
              "      display:flex;\n",
              "      flex-wrap:wrap;\n",
              "      gap: 12px;\n",
              "    }\n",
              "\n",
              "    .colab-df-convert {\n",
              "      background-color: #E8F0FE;\n",
              "      border: none;\n",
              "      border-radius: 50%;\n",
              "      cursor: pointer;\n",
              "      display: none;\n",
              "      fill: #1967D2;\n",
              "      height: 32px;\n",
              "      padding: 0 0 0 0;\n",
              "      width: 32px;\n",
              "    }\n",
              "\n",
              "    .colab-df-convert:hover {\n",
              "      background-color: #E2EBFA;\n",
              "      box-shadow: 0px 1px 2px rgba(60, 64, 67, 0.3), 0px 1px 3px 1px rgba(60, 64, 67, 0.15);\n",
              "      fill: #174EA6;\n",
              "    }\n",
              "\n",
              "    [theme=dark] .colab-df-convert {\n",
              "      background-color: #3B4455;\n",
              "      fill: #D2E3FC;\n",
              "    }\n",
              "\n",
              "    [theme=dark] .colab-df-convert:hover {\n",
              "      background-color: #434B5C;\n",
              "      box-shadow: 0px 1px 3px 1px rgba(0, 0, 0, 0.15);\n",
              "      filter: drop-shadow(0px 1px 2px rgba(0, 0, 0, 0.3));\n",
              "      fill: #FFFFFF;\n",
              "    }\n",
              "  </style>\n",
              "\n",
              "      <script>\n",
              "        const buttonEl =\n",
              "          document.querySelector('#df-b20aa8c4-152e-403f-91ed-c089dde50006 button.colab-df-convert');\n",
              "        buttonEl.style.display =\n",
              "          google.colab.kernel.accessAllowed ? 'block' : 'none';\n",
              "\n",
              "        async function convertToInteractive(key) {\n",
              "          const element = document.querySelector('#df-b20aa8c4-152e-403f-91ed-c089dde50006');\n",
              "          const dataTable =\n",
              "            await google.colab.kernel.invokeFunction('convertToInteractive',\n",
              "                                                     [key], {});\n",
              "          if (!dataTable) return;\n",
              "\n",
              "          const docLinkHtml = 'Like what you see? Visit the ' +\n",
              "            '<a target=\"_blank\" href=https://colab.research.google.com/notebooks/data_table.ipynb>data table notebook</a>'\n",
              "            + ' to learn more about interactive tables.';\n",
              "          element.innerHTML = '';\n",
              "          dataTable['output_type'] = 'display_data';\n",
              "          await google.colab.output.renderOutput(dataTable, element);\n",
              "          const docLink = document.createElement('div');\n",
              "          docLink.innerHTML = docLinkHtml;\n",
              "          element.appendChild(docLink);\n",
              "        }\n",
              "      </script>\n",
              "    </div>\n",
              "  </div>\n",
              "  "
            ]
          },
          "metadata": {},
          "execution_count": 38
        }
      ]
    },
    {
      "cell_type": "code",
      "source": [
        "#Eliminar columnas innecesarias\n",
        "data2=data.drop([\"_record_id\", \"_geometry\",\"picture_of_the_parked_freight_vehicle\",\"serving_customer\",\"describe_the_accident\",\"maximum_number_of_vehicles_in_the_traffic_jam\"], axis=1) #axis1=columnas y axis0=filas\n",
        "data2.head()"
      ],
      "metadata": {
        "id": "v1ALAKsv0_Qw"
      },
      "execution_count": null,
      "outputs": []
    },
    {
      "cell_type": "code",
      "source": [
        "data2.info()\n"
      ],
      "metadata": {
        "colab": {
          "base_uri": "https://localhost:8080/"
        },
        "id": "O7ouIcFs5Iuk",
        "outputId": "3d6c6a14-4ecc-4c06-a9a2-9a5fa447ad52"
      },
      "execution_count": 41,
      "outputs": [
        {
          "output_type": "stream",
          "name": "stdout",
          "text": [
            "<class 'pandas.core.frame.DataFrame'>\n",
            "RangeIndex: 390 entries, 0 to 389\n",
            "Data columns (total 24 columns):\n",
            " #   Column                               Non-Null Count  Dtype  \n",
            "---  ------                               --------------  -----  \n",
            " 0   _title                               380 non-null    object \n",
            " 1   _server_updated_at                   390 non-null    object \n",
            " 2   _created_by                          390 non-null    object \n",
            " 3   _updated_by                          390 non-null    object \n",
            " 4   _latitude                            390 non-null    float64\n",
            " 5   _longitude                           390 non-null    float64\n",
            " 6   arrival_of_the_freight_vehicle       390 non-null    object \n",
            " 7   plates                               389 non-null    object \n",
            " 8   company_if_visible                   235 non-null    object \n",
            " 9   visit_purpose                        390 non-null    object \n",
            " 10  type_of_vehicle                      390 non-null    object \n",
            " 11  number_of_operators                  390 non-null    int64  \n",
            " 12  refrigerated_truck                   390 non-null    object \n",
            " 13  type_of_cargo                        389 non-null    object \n",
            " 14  departure_of_the_freight_vehicle     390 non-null    object \n",
            " 15  where_was_the_vehicle_parked         390 non-null    object \n",
            " 16  while_parked_was_the_engine_running  390 non-null    object \n",
            " 17  used_traffic_cone                    390 non-null    object \n",
            " 18  vehicles_unloading_door              390 non-null    object \n",
            " 19  number_of_available_trolleys         390 non-null    int64  \n",
            " 20  garage_blocking                      390 non-null    object \n",
            " 21  accident                             390 non-null    object \n",
            " 22  noise                                390 non-null    object \n",
            " 23  traffic_congestion                   390 non-null    object \n",
            "dtypes: float64(2), int64(2), object(20)\n",
            "memory usage: 73.2+ KB\n"
          ]
        }
      ]
    },
    {
      "cell_type": "code",
      "source": [
        "#Filtro por columnas, de acuerdo a la información obtenida arriba obtenemos las cuantitativas\n",
        "cuant=data2.iloc[ : , [11,19]]  #columnas no consecutivas \n",
        "cuant"
      ],
      "metadata": {
        "id": "O4pnLJjI6uT-"
      },
      "execution_count": null,
      "outputs": []
    },
    {
      "cell_type": "code",
      "source": [
        "#Eliminar columnas innecesarias para crear el subdf de las cualitativas\n",
        "cualit=data2.drop([\"_latitude\", \"_longitude\",\"number_of_operators\",\"number_of_available_trolleys\"], axis=1) #axis1=columnas y axis0=filas\n",
        "cualit"
      ],
      "metadata": {
        "id": "d2wtBVOp8QNo"
      },
      "execution_count": null,
      "outputs": []
    },
    {
      "cell_type": "code",
      "source": [
        "#Corroboramos valores nulos \n",
        "valores_nulos=cualit.isnull().sum()\n",
        "valores_nulos\n",
        "#cualit.info()"
      ],
      "metadata": {
        "colab": {
          "base_uri": "https://localhost:8080/"
        },
        "id": "w7wEaQ3B9fT9",
        "outputId": "45bdedda-cdd9-489e-9cf9-c66f8fe98966"
      },
      "execution_count": 45,
      "outputs": [
        {
          "output_type": "execute_result",
          "data": {
            "text/plain": [
              "_title                                  10\n",
              "_server_updated_at                       0\n",
              "_created_by                              0\n",
              "_updated_by                              0\n",
              "arrival_of_the_freight_vehicle           0\n",
              "plates                                   1\n",
              "company_if_visible                     155\n",
              "visit_purpose                            0\n",
              "type_of_vehicle                          0\n",
              "refrigerated_truck                       0\n",
              "type_of_cargo                            1\n",
              "departure_of_the_freight_vehicle         0\n",
              "where_was_the_vehicle_parked             0\n",
              "while_parked_was_the_engine_running      0\n",
              "used_traffic_cone                        0\n",
              "vehicles_unloading_door                  0\n",
              "garage_blocking                          0\n",
              "accident                                 0\n",
              "noise                                    0\n",
              "traffic_congestion                       0\n",
              "dtype: int64"
            ]
          },
          "metadata": {},
          "execution_count": 45
        }
      ]
    },
    {
      "cell_type": "code",
      "source": [
        "#Sustituir valores nulos por valores no nulos hacia adelante \"forward fill\"(\"ffill\")\n",
        "cualit[\"_title\"]=cualit[\"_title\"].fillna(method=\"ffill\")\n",
        "cualit[\"plates\"]=cualit[\"plates\"].fillna(method=\"bfill\")\n",
        "cualit[\"type_of_cargo\"]=cualit[\"type_of_cargo\"].fillna(method=\"bfill\")\n",
        "#Sustituir valores nulos por un string en concreto\n",
        "cualit[\"company_if_visible\"]=cualit[\"company_if_visible\"].fillna(\"Sin registro\")\n",
        "cualit"
      ],
      "metadata": {
        "id": "uylETPU09-yK"
      },
      "execution_count": null,
      "outputs": []
    },
    {
      "cell_type": "code",
      "source": [
        "valores_nulos=cualit.isnull().sum()\n",
        "valores_nulos"
      ],
      "metadata": {
        "colab": {
          "base_uri": "https://localhost:8080/"
        },
        "id": "GUbhRT_H-QGl",
        "outputId": "8155e45f-74da-432f-aa1b-c5df0c0cefb6"
      },
      "execution_count": 47,
      "outputs": [
        {
          "output_type": "execute_result",
          "data": {
            "text/plain": [
              "_title                                 0\n",
              "_server_updated_at                     0\n",
              "_created_by                            0\n",
              "_updated_by                            0\n",
              "arrival_of_the_freight_vehicle         0\n",
              "plates                                 0\n",
              "company_if_visible                     0\n",
              "visit_purpose                          0\n",
              "type_of_vehicle                        0\n",
              "refrigerated_truck                     0\n",
              "type_of_cargo                          0\n",
              "departure_of_the_freight_vehicle       0\n",
              "where_was_the_vehicle_parked           0\n",
              "while_parked_was_the_engine_running    0\n",
              "used_traffic_cone                      0\n",
              "vehicles_unloading_door                0\n",
              "garage_blocking                        0\n",
              "accident                               0\n",
              "noise                                  0\n",
              "traffic_congestion                     0\n",
              "dtype: int64"
            ]
          },
          "metadata": {},
          "execution_count": 47
        }
      ]
    },
    {
      "cell_type": "code",
      "source": [
        "#Método aplicando desviación estandar. Encuentro los valores extremos\n",
        "y=cuant\n",
        "Limite_Superior= y.mean() + 3*y.std()\n",
        "Limite_Inferior= y.mean() - 3*y.std()\n",
        "print(\"Limite superior permitido\", Limite_Superior)\n",
        "print(\"Limite inferior permitido\", Limite_Inferior)"
      ],
      "metadata": {
        "colab": {
          "base_uri": "https://localhost:8080/"
        },
        "id": "Fw0scvRt_cQI",
        "outputId": "83c9d225-a465-4a94-e2a0-9221c1a93070"
      },
      "execution_count": 48,
      "outputs": [
        {
          "output_type": "stream",
          "name": "stdout",
          "text": [
            "Limite superior permitido number_of_operators             4.009477\n",
            "number_of_available_trolleys    2.962660\n",
            "dtype: float64\n",
            "Limite inferior permitido number_of_operators            -0.753067\n",
            "number_of_available_trolleys   -1.767788\n",
            "dtype: float64\n"
          ]
        }
      ]
    },
    {
      "cell_type": "code",
      "source": [
        "#Encontramos Ouliers del Dataframe\n",
        "outliers= cuant[(y>Limite_Superior)|(y<Limite_Inferior)]\n",
        "outliers"
      ],
      "metadata": {
        "colab": {
          "base_uri": "https://localhost:8080/",
          "height": 424
        },
        "id": "tzPpneINAvvR",
        "outputId": "c3a0ffab-4e17-4245-c3b1-ba6ccf355926"
      },
      "execution_count": 49,
      "outputs": [
        {
          "output_type": "execute_result",
          "data": {
            "text/plain": [
              "     number_of_operators  number_of_available_trolleys\n",
              "0                    NaN                           NaN\n",
              "1                    NaN                           NaN\n",
              "2                    NaN                           NaN\n",
              "3                    NaN                           NaN\n",
              "4                    NaN                           NaN\n",
              "..                   ...                           ...\n",
              "385                  NaN                           NaN\n",
              "386                  NaN                           NaN\n",
              "387                  NaN                           NaN\n",
              "388                  NaN                           NaN\n",
              "389                  NaN                           NaN\n",
              "\n",
              "[390 rows x 2 columns]"
            ],
            "text/html": [
              "\n",
              "  <div id=\"df-c7dda0ed-1578-4f82-b447-833812718461\">\n",
              "    <div class=\"colab-df-container\">\n",
              "      <div>\n",
              "<style scoped>\n",
              "    .dataframe tbody tr th:only-of-type {\n",
              "        vertical-align: middle;\n",
              "    }\n",
              "\n",
              "    .dataframe tbody tr th {\n",
              "        vertical-align: top;\n",
              "    }\n",
              "\n",
              "    .dataframe thead th {\n",
              "        text-align: right;\n",
              "    }\n",
              "</style>\n",
              "<table border=\"1\" class=\"dataframe\">\n",
              "  <thead>\n",
              "    <tr style=\"text-align: right;\">\n",
              "      <th></th>\n",
              "      <th>number_of_operators</th>\n",
              "      <th>number_of_available_trolleys</th>\n",
              "    </tr>\n",
              "  </thead>\n",
              "  <tbody>\n",
              "    <tr>\n",
              "      <th>0</th>\n",
              "      <td>NaN</td>\n",
              "      <td>NaN</td>\n",
              "    </tr>\n",
              "    <tr>\n",
              "      <th>1</th>\n",
              "      <td>NaN</td>\n",
              "      <td>NaN</td>\n",
              "    </tr>\n",
              "    <tr>\n",
              "      <th>2</th>\n",
              "      <td>NaN</td>\n",
              "      <td>NaN</td>\n",
              "    </tr>\n",
              "    <tr>\n",
              "      <th>3</th>\n",
              "      <td>NaN</td>\n",
              "      <td>NaN</td>\n",
              "    </tr>\n",
              "    <tr>\n",
              "      <th>4</th>\n",
              "      <td>NaN</td>\n",
              "      <td>NaN</td>\n",
              "    </tr>\n",
              "    <tr>\n",
              "      <th>...</th>\n",
              "      <td>...</td>\n",
              "      <td>...</td>\n",
              "    </tr>\n",
              "    <tr>\n",
              "      <th>385</th>\n",
              "      <td>NaN</td>\n",
              "      <td>NaN</td>\n",
              "    </tr>\n",
              "    <tr>\n",
              "      <th>386</th>\n",
              "      <td>NaN</td>\n",
              "      <td>NaN</td>\n",
              "    </tr>\n",
              "    <tr>\n",
              "      <th>387</th>\n",
              "      <td>NaN</td>\n",
              "      <td>NaN</td>\n",
              "    </tr>\n",
              "    <tr>\n",
              "      <th>388</th>\n",
              "      <td>NaN</td>\n",
              "      <td>NaN</td>\n",
              "    </tr>\n",
              "    <tr>\n",
              "      <th>389</th>\n",
              "      <td>NaN</td>\n",
              "      <td>NaN</td>\n",
              "    </tr>\n",
              "  </tbody>\n",
              "</table>\n",
              "<p>390 rows × 2 columns</p>\n",
              "</div>\n",
              "      <button class=\"colab-df-convert\" onclick=\"convertToInteractive('df-c7dda0ed-1578-4f82-b447-833812718461')\"\n",
              "              title=\"Convert this dataframe to an interactive table.\"\n",
              "              style=\"display:none;\">\n",
              "        \n",
              "  <svg xmlns=\"http://www.w3.org/2000/svg\" height=\"24px\"viewBox=\"0 0 24 24\"\n",
              "       width=\"24px\">\n",
              "    <path d=\"M0 0h24v24H0V0z\" fill=\"none\"/>\n",
              "    <path d=\"M18.56 5.44l.94 2.06.94-2.06 2.06-.94-2.06-.94-.94-2.06-.94 2.06-2.06.94zm-11 1L8.5 8.5l.94-2.06 2.06-.94-2.06-.94L8.5 2.5l-.94 2.06-2.06.94zm10 10l.94 2.06.94-2.06 2.06-.94-2.06-.94-.94-2.06-.94 2.06-2.06.94z\"/><path d=\"M17.41 7.96l-1.37-1.37c-.4-.4-.92-.59-1.43-.59-.52 0-1.04.2-1.43.59L10.3 9.45l-7.72 7.72c-.78.78-.78 2.05 0 2.83L4 21.41c.39.39.9.59 1.41.59.51 0 1.02-.2 1.41-.59l7.78-7.78 2.81-2.81c.8-.78.8-2.07 0-2.86zM5.41 20L4 18.59l7.72-7.72 1.47 1.35L5.41 20z\"/>\n",
              "  </svg>\n",
              "      </button>\n",
              "      \n",
              "  <style>\n",
              "    .colab-df-container {\n",
              "      display:flex;\n",
              "      flex-wrap:wrap;\n",
              "      gap: 12px;\n",
              "    }\n",
              "\n",
              "    .colab-df-convert {\n",
              "      background-color: #E8F0FE;\n",
              "      border: none;\n",
              "      border-radius: 50%;\n",
              "      cursor: pointer;\n",
              "      display: none;\n",
              "      fill: #1967D2;\n",
              "      height: 32px;\n",
              "      padding: 0 0 0 0;\n",
              "      width: 32px;\n",
              "    }\n",
              "\n",
              "    .colab-df-convert:hover {\n",
              "      background-color: #E2EBFA;\n",
              "      box-shadow: 0px 1px 2px rgba(60, 64, 67, 0.3), 0px 1px 3px 1px rgba(60, 64, 67, 0.15);\n",
              "      fill: #174EA6;\n",
              "    }\n",
              "\n",
              "    [theme=dark] .colab-df-convert {\n",
              "      background-color: #3B4455;\n",
              "      fill: #D2E3FC;\n",
              "    }\n",
              "\n",
              "    [theme=dark] .colab-df-convert:hover {\n",
              "      background-color: #434B5C;\n",
              "      box-shadow: 0px 1px 3px 1px rgba(0, 0, 0, 0.15);\n",
              "      filter: drop-shadow(0px 1px 2px rgba(0, 0, 0, 0.3));\n",
              "      fill: #FFFFFF;\n",
              "    }\n",
              "  </style>\n",
              "\n",
              "      <script>\n",
              "        const buttonEl =\n",
              "          document.querySelector('#df-c7dda0ed-1578-4f82-b447-833812718461 button.colab-df-convert');\n",
              "        buttonEl.style.display =\n",
              "          google.colab.kernel.accessAllowed ? 'block' : 'none';\n",
              "\n",
              "        async function convertToInteractive(key) {\n",
              "          const element = document.querySelector('#df-c7dda0ed-1578-4f82-b447-833812718461');\n",
              "          const dataTable =\n",
              "            await google.colab.kernel.invokeFunction('convertToInteractive',\n",
              "                                                     [key], {});\n",
              "          if (!dataTable) return;\n",
              "\n",
              "          const docLinkHtml = 'Like what you see? Visit the ' +\n",
              "            '<a target=\"_blank\" href=https://colab.research.google.com/notebooks/data_table.ipynb>data table notebook</a>'\n",
              "            + ' to learn more about interactive tables.';\n",
              "          element.innerHTML = '';\n",
              "          dataTable['output_type'] = 'display_data';\n",
              "          await google.colab.output.renderOutput(dataTable, element);\n",
              "          const docLink = document.createElement('div');\n",
              "          docLink.innerHTML = docLinkHtml;\n",
              "          element.appendChild(docLink);\n",
              "        }\n",
              "      </script>\n",
              "    </div>\n",
              "  </div>\n",
              "  "
            ]
          },
          "metadata": {},
          "execution_count": 49
        }
      ]
    },
    {
      "cell_type": "code",
      "source": [
        "valores_nulos=outliers.isnull().sum()\n",
        "valores_nulos"
      ],
      "metadata": {
        "colab": {
          "base_uri": "https://localhost:8080/"
        },
        "id": "inYXXfbkA_nf",
        "outputId": "1c5c129c-daa7-4be3-f4e8-60f4c5028397"
      },
      "execution_count": 52,
      "outputs": [
        {
          "output_type": "execute_result",
          "data": {
            "text/plain": [
              "number_of_operators             387\n",
              "number_of_available_trolleys    386\n",
              "dtype: int64"
            ]
          },
          "metadata": {},
          "execution_count": 52
        }
      ]
    },
    {
      "cell_type": "markdown",
      "source": [
        "Ya que al hacer la operación nos da un numéro demasiado elevado, casi el total de entradas, no se hará el procedimiento de outliers"
      ],
      "metadata": {
        "id": "b6abawl_xVz1"
      }
    },
    {
      "cell_type": "code",
      "source": [
        "# Unimos la columna 'indice_tiempo' con el dataframe\n",
        "lonnylat=data2.iloc[ : , [4,5]]\n",
        "cuant2 = pd.concat([lonnylat, cuant], axis=1)\n",
        "cuant2"
      ],
      "metadata": {
        "id": "pxM2-iG8ZJtM"
      },
      "execution_count": null,
      "outputs": []
    },
    {
      "cell_type": "code",
      "source": [
        "LMLEvidencia = pd.concat([cuant2, cualit], axis=1)\n",
        "LMLEvidencia.info()"
      ],
      "metadata": {
        "colab": {
          "base_uri": "https://localhost:8080/"
        },
        "id": "vchH-T_oaw2w",
        "outputId": "27ceda01-b574-4b48-fb5e-d0408212b477"
      },
      "execution_count": 55,
      "outputs": [
        {
          "output_type": "stream",
          "name": "stdout",
          "text": [
            "<class 'pandas.core.frame.DataFrame'>\n",
            "RangeIndex: 390 entries, 0 to 389\n",
            "Data columns (total 24 columns):\n",
            " #   Column                               Non-Null Count  Dtype  \n",
            "---  ------                               --------------  -----  \n",
            " 0   _latitude                            390 non-null    float64\n",
            " 1   _longitude                           390 non-null    float64\n",
            " 2   number_of_operators                  390 non-null    int64  \n",
            " 3   number_of_available_trolleys         390 non-null    int64  \n",
            " 4   _title                               390 non-null    object \n",
            " 5   _server_updated_at                   390 non-null    object \n",
            " 6   _created_by                          390 non-null    object \n",
            " 7   _updated_by                          390 non-null    object \n",
            " 8   arrival_of_the_freight_vehicle       390 non-null    object \n",
            " 9   plates                               390 non-null    object \n",
            " 10  company_if_visible                   390 non-null    object \n",
            " 11  visit_purpose                        390 non-null    object \n",
            " 12  type_of_vehicle                      390 non-null    object \n",
            " 13  refrigerated_truck                   390 non-null    object \n",
            " 14  type_of_cargo                        390 non-null    object \n",
            " 15  departure_of_the_freight_vehicle     390 non-null    object \n",
            " 16  where_was_the_vehicle_parked         390 non-null    object \n",
            " 17  while_parked_was_the_engine_running  390 non-null    object \n",
            " 18  used_traffic_cone                    390 non-null    object \n",
            " 19  vehicles_unloading_door              390 non-null    object \n",
            " 20  garage_blocking                      390 non-null    object \n",
            " 21  accident                             390 non-null    object \n",
            " 22  noise                                390 non-null    object \n",
            " 23  traffic_congestion                   390 non-null    object \n",
            "dtypes: float64(2), int64(2), object(20)\n",
            "memory usage: 73.2+ KB\n"
          ]
        }
      ]
    },
    {
      "cell_type": "code",
      "source": [
        "#Corroboramos valores nulos del dataframe LIMPIO\n",
        "valores_nulos=LMLEvidencia.isnull().sum().sum()\n",
        "valores_nulos"
      ],
      "metadata": {
        "colab": {
          "base_uri": "https://localhost:8080/"
        },
        "id": "MkPJ7_-rbUTq",
        "outputId": "9d6b52d2-2498-4f87-b2ac-6423e2b8ed46"
      },
      "execution_count": 56,
      "outputs": [
        {
          "output_type": "execute_result",
          "data": {
            "text/plain": [
              "0"
            ]
          },
          "metadata": {},
          "execution_count": 56
        }
      ]
    },
    {
      "cell_type": "code",
      "source": [
        "#Convertir DataFrame a CSV\n",
        "LMLEvidencia.to_csv(\"LMLEvidencia.csv\")"
      ],
      "metadata": {
        "id": "YTM4PNU6bbU2"
      },
      "execution_count": 57,
      "outputs": []
    },
    {
      "cell_type": "code",
      "source": [
        "#descargar archivo filtrado en csv\n",
        "from google.colab import files \n",
        "files.download(\"LMLEvidencia.csv\")"
      ],
      "metadata": {
        "colab": {
          "base_uri": "https://localhost:8080/",
          "height": 17
        },
        "id": "DgqJS3gJbhJq",
        "outputId": "e0b70c0a-b299-4894-ea7e-ade3019a942e"
      },
      "execution_count": 58,
      "outputs": [
        {
          "output_type": "display_data",
          "data": {
            "text/plain": [
              "<IPython.core.display.Javascript object>"
            ],
            "application/javascript": [
              "\n",
              "    async function download(id, filename, size) {\n",
              "      if (!google.colab.kernel.accessAllowed) {\n",
              "        return;\n",
              "      }\n",
              "      const div = document.createElement('div');\n",
              "      const label = document.createElement('label');\n",
              "      label.textContent = `Downloading \"${filename}\": `;\n",
              "      div.appendChild(label);\n",
              "      const progress = document.createElement('progress');\n",
              "      progress.max = size;\n",
              "      div.appendChild(progress);\n",
              "      document.body.appendChild(div);\n",
              "\n",
              "      const buffers = [];\n",
              "      let downloaded = 0;\n",
              "\n",
              "      const channel = await google.colab.kernel.comms.open(id);\n",
              "      // Send a message to notify the kernel that we're ready.\n",
              "      channel.send({})\n",
              "\n",
              "      for await (const message of channel.messages) {\n",
              "        // Send a message to notify the kernel that we're ready.\n",
              "        channel.send({})\n",
              "        if (message.buffers) {\n",
              "          for (const buffer of message.buffers) {\n",
              "            buffers.push(buffer);\n",
              "            downloaded += buffer.byteLength;\n",
              "            progress.value = downloaded;\n",
              "          }\n",
              "        }\n",
              "      }\n",
              "      const blob = new Blob(buffers, {type: 'application/binary'});\n",
              "      const a = document.createElement('a');\n",
              "      a.href = window.URL.createObjectURL(blob);\n",
              "      a.download = filename;\n",
              "      div.appendChild(a);\n",
              "      a.click();\n",
              "      div.remove();\n",
              "    }\n",
              "  "
            ]
          },
          "metadata": {}
        },
        {
          "output_type": "display_data",
          "data": {
            "text/plain": [
              "<IPython.core.display.Javascript object>"
            ],
            "application/javascript": [
              "download(\"download_f6123551-2571-40de-a6e7-9aad7009d98a\", \"LMLEvidencia.csv\", 122698)"
            ]
          },
          "metadata": {}
        }
      ]
    },
    {
      "cell_type": "markdown",
      "source": [
        "Se finaliza la descarga con un dataframe más limpio, con menos variables desgraciadamente y dificil de tratar sin embargo listo en cuanto al filtrado"
      ],
      "metadata": {
        "id": "RRTEWLZ1yBt4"
      }
    },
    {
      "cell_type": "markdown",
      "source": [
        "Tratamiento de variables (filtrado)"
      ],
      "metadata": {
        "id": "25x3LEFj2rJV"
      }
    },
    {
      "cell_type": "markdown",
      "source": [],
      "metadata": {
        "id": "Wy3WB45z3DWG"
      }
    },
    {
      "cell_type": "code",
      "source": [
        "LMLEvidencia.info()"
      ],
      "metadata": {
        "colab": {
          "base_uri": "https://localhost:8080/"
        },
        "id": "WkX5vR223FwD",
        "outputId": "1b4d9b2d-f7ad-47cb-ec24-0114ce2c2c25"
      },
      "execution_count": 59,
      "outputs": [
        {
          "output_type": "stream",
          "name": "stdout",
          "text": [
            "<class 'pandas.core.frame.DataFrame'>\n",
            "RangeIndex: 390 entries, 0 to 389\n",
            "Data columns (total 24 columns):\n",
            " #   Column                               Non-Null Count  Dtype  \n",
            "---  ------                               --------------  -----  \n",
            " 0   _latitude                            390 non-null    float64\n",
            " 1   _longitude                           390 non-null    float64\n",
            " 2   number_of_operators                  390 non-null    int64  \n",
            " 3   number_of_available_trolleys         390 non-null    int64  \n",
            " 4   _title                               390 non-null    object \n",
            " 5   _server_updated_at                   390 non-null    object \n",
            " 6   _created_by                          390 non-null    object \n",
            " 7   _updated_by                          390 non-null    object \n",
            " 8   arrival_of_the_freight_vehicle       390 non-null    object \n",
            " 9   plates                               390 non-null    object \n",
            " 10  company_if_visible                   390 non-null    object \n",
            " 11  visit_purpose                        390 non-null    object \n",
            " 12  type_of_vehicle                      390 non-null    object \n",
            " 13  refrigerated_truck                   390 non-null    object \n",
            " 14  type_of_cargo                        390 non-null    object \n",
            " 15  departure_of_the_freight_vehicle     390 non-null    object \n",
            " 16  where_was_the_vehicle_parked         390 non-null    object \n",
            " 17  while_parked_was_the_engine_running  390 non-null    object \n",
            " 18  used_traffic_cone                    390 non-null    object \n",
            " 19  vehicles_unloading_door              390 non-null    object \n",
            " 20  garage_blocking                      390 non-null    object \n",
            " 21  accident                             390 non-null    object \n",
            " 22  noise                                390 non-null    object \n",
            " 23  traffic_congestion                   390 non-null    object \n",
            "dtypes: float64(2), int64(2), object(20)\n",
            "memory usage: 73.2+ KB\n"
          ]
        }
      ]
    },
    {
      "cell_type": "code",
      "source": [
        "#Realizamos otro filtro por filas donde se incluyan las vafriables que se van a utilizar para la visualización y extracción\n",
        "variables_buenas=LMLEvidencia.iloc[:,[2,3,4,6,8,10,11,12,13,14,15,16,17,18,19,20,21,22,23]]\n",
        "variables_buenas"
      ],
      "metadata": {
        "id": "qqdYfmjy2ogK"
      },
      "execution_count": null,
      "outputs": []
    },
    {
      "cell_type": "code",
      "source": [
        "#Obtengo  un analisis univariado de las variables categóricas\n",
        "freq_tbl(variables_buenas)"
      ],
      "metadata": {
        "id": "hP1yGg5Z74Sm"
      },
      "execution_count": null,
      "outputs": []
    },
    {
      "cell_type": "markdown",
      "source": [
        "Variables"
      ],
      "metadata": {
        "id": "jpe9iYRd9oGQ"
      }
    },
    {
      "cell_type": "code",
      "source": [
        "#Obtengo un analisis univariado de una variable categórica en especifico\n",
        "table1= freq_tbl(variables_buenas['_created_by'])\n",
        "table1"
      ],
      "metadata": {
        "id": "x01chSP69nXD"
      },
      "execution_count": null,
      "outputs": []
    },
    {
      "cell_type": "code",
      "source": [
        "#Obtengo un filtro de los valores mas relevantes de las variables categoricas seleccionadas\n",
        "Filtro= table1[table1['frequency']>6]\n",
        "Filtro"
      ],
      "metadata": {
        "colab": {
          "base_uri": "https://localhost:8080/",
          "height": 771
        },
        "id": "PXn_oGKD-Ukg",
        "outputId": "cd9d241b-c9a3-4050-8bbd-1df84834ae04"
      },
      "execution_count": 78,
      "outputs": [
        {
          "output_type": "execute_result",
          "data": {
            "text/plain": [
              "                     _created_by  frequency  percentage  cumulative_perc\n",
              "0    Adriel Antonio Huerta Vidal         40    0.102564         0.102564\n",
              "1   Mariana Sáenz Gómez Ortigoza         21    0.053846         0.156410\n",
              "2                  María Pedraza         21    0.053846         0.210256\n",
              "3    Juan Carlos Bejarano Moreno         21    0.053846         0.264103\n",
              "4                     José López         20    0.051282         0.315385\n",
              "5    Luis Gerardo Ramírez Lastra         19    0.048718         0.364103\n",
              "6             Gustavo Manzanilla         18    0.046154         0.410256\n",
              "7                  Diego Arrieta         17    0.043590         0.453846\n",
              "8                Pedro Contreras         17    0.043590         0.497436\n",
              "9                  Julio Vázquez         15    0.038462         0.535897\n",
              "10                   Juan Chimas         15    0.038462         0.574359\n",
              "11                Sandra Carreón         13    0.033333         0.607692\n",
              "12             Leoncio Mora Díaz         11    0.028205         0.635897\n",
              "13                  Miguel López         11    0.028205         0.664103\n",
              "14              Alejandro Matias          9    0.023077         0.687179\n",
              "15                 Carol Cázares          9    0.023077         0.710256\n",
              "16                   José Varela          9    0.023077         0.733333\n",
              "17                  Sergio Licea          8    0.020513         0.753846\n",
              "18                   Saúl Cuervo          8    0.020513         0.774359\n",
              "19                 Miguel Burgos          7    0.017949         0.792308\n",
              "20                 Fernando Báez          7    0.017949         0.810256\n",
              "21                Hiram Arellano          7    0.017949         0.828205\n",
              "22                  Emilio Garza          7    0.017949         0.846154"
            ],
            "text/html": [
              "\n",
              "  <div id=\"df-2469e1ef-6cc7-4a57-9ca9-0640e19dfd8d\">\n",
              "    <div class=\"colab-df-container\">\n",
              "      <div>\n",
              "<style scoped>\n",
              "    .dataframe tbody tr th:only-of-type {\n",
              "        vertical-align: middle;\n",
              "    }\n",
              "\n",
              "    .dataframe tbody tr th {\n",
              "        vertical-align: top;\n",
              "    }\n",
              "\n",
              "    .dataframe thead th {\n",
              "        text-align: right;\n",
              "    }\n",
              "</style>\n",
              "<table border=\"1\" class=\"dataframe\">\n",
              "  <thead>\n",
              "    <tr style=\"text-align: right;\">\n",
              "      <th></th>\n",
              "      <th>_created_by</th>\n",
              "      <th>frequency</th>\n",
              "      <th>percentage</th>\n",
              "      <th>cumulative_perc</th>\n",
              "    </tr>\n",
              "  </thead>\n",
              "  <tbody>\n",
              "    <tr>\n",
              "      <th>0</th>\n",
              "      <td>Adriel Antonio Huerta Vidal</td>\n",
              "      <td>40</td>\n",
              "      <td>0.102564</td>\n",
              "      <td>0.102564</td>\n",
              "    </tr>\n",
              "    <tr>\n",
              "      <th>1</th>\n",
              "      <td>Mariana Sáenz Gómez Ortigoza</td>\n",
              "      <td>21</td>\n",
              "      <td>0.053846</td>\n",
              "      <td>0.156410</td>\n",
              "    </tr>\n",
              "    <tr>\n",
              "      <th>2</th>\n",
              "      <td>María Pedraza</td>\n",
              "      <td>21</td>\n",
              "      <td>0.053846</td>\n",
              "      <td>0.210256</td>\n",
              "    </tr>\n",
              "    <tr>\n",
              "      <th>3</th>\n",
              "      <td>Juan Carlos Bejarano Moreno</td>\n",
              "      <td>21</td>\n",
              "      <td>0.053846</td>\n",
              "      <td>0.264103</td>\n",
              "    </tr>\n",
              "    <tr>\n",
              "      <th>4</th>\n",
              "      <td>José López</td>\n",
              "      <td>20</td>\n",
              "      <td>0.051282</td>\n",
              "      <td>0.315385</td>\n",
              "    </tr>\n",
              "    <tr>\n",
              "      <th>5</th>\n",
              "      <td>Luis Gerardo Ramírez Lastra</td>\n",
              "      <td>19</td>\n",
              "      <td>0.048718</td>\n",
              "      <td>0.364103</td>\n",
              "    </tr>\n",
              "    <tr>\n",
              "      <th>6</th>\n",
              "      <td>Gustavo Manzanilla</td>\n",
              "      <td>18</td>\n",
              "      <td>0.046154</td>\n",
              "      <td>0.410256</td>\n",
              "    </tr>\n",
              "    <tr>\n",
              "      <th>7</th>\n",
              "      <td>Diego Arrieta</td>\n",
              "      <td>17</td>\n",
              "      <td>0.043590</td>\n",
              "      <td>0.453846</td>\n",
              "    </tr>\n",
              "    <tr>\n",
              "      <th>8</th>\n",
              "      <td>Pedro Contreras</td>\n",
              "      <td>17</td>\n",
              "      <td>0.043590</td>\n",
              "      <td>0.497436</td>\n",
              "    </tr>\n",
              "    <tr>\n",
              "      <th>9</th>\n",
              "      <td>Julio Vázquez</td>\n",
              "      <td>15</td>\n",
              "      <td>0.038462</td>\n",
              "      <td>0.535897</td>\n",
              "    </tr>\n",
              "    <tr>\n",
              "      <th>10</th>\n",
              "      <td>Juan Chimas</td>\n",
              "      <td>15</td>\n",
              "      <td>0.038462</td>\n",
              "      <td>0.574359</td>\n",
              "    </tr>\n",
              "    <tr>\n",
              "      <th>11</th>\n",
              "      <td>Sandra Carreón</td>\n",
              "      <td>13</td>\n",
              "      <td>0.033333</td>\n",
              "      <td>0.607692</td>\n",
              "    </tr>\n",
              "    <tr>\n",
              "      <th>12</th>\n",
              "      <td>Leoncio Mora Díaz</td>\n",
              "      <td>11</td>\n",
              "      <td>0.028205</td>\n",
              "      <td>0.635897</td>\n",
              "    </tr>\n",
              "    <tr>\n",
              "      <th>13</th>\n",
              "      <td>Miguel López</td>\n",
              "      <td>11</td>\n",
              "      <td>0.028205</td>\n",
              "      <td>0.664103</td>\n",
              "    </tr>\n",
              "    <tr>\n",
              "      <th>14</th>\n",
              "      <td>Alejandro Matias</td>\n",
              "      <td>9</td>\n",
              "      <td>0.023077</td>\n",
              "      <td>0.687179</td>\n",
              "    </tr>\n",
              "    <tr>\n",
              "      <th>15</th>\n",
              "      <td>Carol Cázares</td>\n",
              "      <td>9</td>\n",
              "      <td>0.023077</td>\n",
              "      <td>0.710256</td>\n",
              "    </tr>\n",
              "    <tr>\n",
              "      <th>16</th>\n",
              "      <td>José Varela</td>\n",
              "      <td>9</td>\n",
              "      <td>0.023077</td>\n",
              "      <td>0.733333</td>\n",
              "    </tr>\n",
              "    <tr>\n",
              "      <th>17</th>\n",
              "      <td>Sergio Licea</td>\n",
              "      <td>8</td>\n",
              "      <td>0.020513</td>\n",
              "      <td>0.753846</td>\n",
              "    </tr>\n",
              "    <tr>\n",
              "      <th>18</th>\n",
              "      <td>Saúl Cuervo</td>\n",
              "      <td>8</td>\n",
              "      <td>0.020513</td>\n",
              "      <td>0.774359</td>\n",
              "    </tr>\n",
              "    <tr>\n",
              "      <th>19</th>\n",
              "      <td>Miguel Burgos</td>\n",
              "      <td>7</td>\n",
              "      <td>0.017949</td>\n",
              "      <td>0.792308</td>\n",
              "    </tr>\n",
              "    <tr>\n",
              "      <th>20</th>\n",
              "      <td>Fernando Báez</td>\n",
              "      <td>7</td>\n",
              "      <td>0.017949</td>\n",
              "      <td>0.810256</td>\n",
              "    </tr>\n",
              "    <tr>\n",
              "      <th>21</th>\n",
              "      <td>Hiram Arellano</td>\n",
              "      <td>7</td>\n",
              "      <td>0.017949</td>\n",
              "      <td>0.828205</td>\n",
              "    </tr>\n",
              "    <tr>\n",
              "      <th>22</th>\n",
              "      <td>Emilio Garza</td>\n",
              "      <td>7</td>\n",
              "      <td>0.017949</td>\n",
              "      <td>0.846154</td>\n",
              "    </tr>\n",
              "  </tbody>\n",
              "</table>\n",
              "</div>\n",
              "      <button class=\"colab-df-convert\" onclick=\"convertToInteractive('df-2469e1ef-6cc7-4a57-9ca9-0640e19dfd8d')\"\n",
              "              title=\"Convert this dataframe to an interactive table.\"\n",
              "              style=\"display:none;\">\n",
              "        \n",
              "  <svg xmlns=\"http://www.w3.org/2000/svg\" height=\"24px\"viewBox=\"0 0 24 24\"\n",
              "       width=\"24px\">\n",
              "    <path d=\"M0 0h24v24H0V0z\" fill=\"none\"/>\n",
              "    <path d=\"M18.56 5.44l.94 2.06.94-2.06 2.06-.94-2.06-.94-.94-2.06-.94 2.06-2.06.94zm-11 1L8.5 8.5l.94-2.06 2.06-.94-2.06-.94L8.5 2.5l-.94 2.06-2.06.94zm10 10l.94 2.06.94-2.06 2.06-.94-2.06-.94-.94-2.06-.94 2.06-2.06.94z\"/><path d=\"M17.41 7.96l-1.37-1.37c-.4-.4-.92-.59-1.43-.59-.52 0-1.04.2-1.43.59L10.3 9.45l-7.72 7.72c-.78.78-.78 2.05 0 2.83L4 21.41c.39.39.9.59 1.41.59.51 0 1.02-.2 1.41-.59l7.78-7.78 2.81-2.81c.8-.78.8-2.07 0-2.86zM5.41 20L4 18.59l7.72-7.72 1.47 1.35L5.41 20z\"/>\n",
              "  </svg>\n",
              "      </button>\n",
              "      \n",
              "  <style>\n",
              "    .colab-df-container {\n",
              "      display:flex;\n",
              "      flex-wrap:wrap;\n",
              "      gap: 12px;\n",
              "    }\n",
              "\n",
              "    .colab-df-convert {\n",
              "      background-color: #E8F0FE;\n",
              "      border: none;\n",
              "      border-radius: 50%;\n",
              "      cursor: pointer;\n",
              "      display: none;\n",
              "      fill: #1967D2;\n",
              "      height: 32px;\n",
              "      padding: 0 0 0 0;\n",
              "      width: 32px;\n",
              "    }\n",
              "\n",
              "    .colab-df-convert:hover {\n",
              "      background-color: #E2EBFA;\n",
              "      box-shadow: 0px 1px 2px rgba(60, 64, 67, 0.3), 0px 1px 3px 1px rgba(60, 64, 67, 0.15);\n",
              "      fill: #174EA6;\n",
              "    }\n",
              "\n",
              "    [theme=dark] .colab-df-convert {\n",
              "      background-color: #3B4455;\n",
              "      fill: #D2E3FC;\n",
              "    }\n",
              "\n",
              "    [theme=dark] .colab-df-convert:hover {\n",
              "      background-color: #434B5C;\n",
              "      box-shadow: 0px 1px 3px 1px rgba(0, 0, 0, 0.15);\n",
              "      filter: drop-shadow(0px 1px 2px rgba(0, 0, 0, 0.3));\n",
              "      fill: #FFFFFF;\n",
              "    }\n",
              "  </style>\n",
              "\n",
              "      <script>\n",
              "        const buttonEl =\n",
              "          document.querySelector('#df-2469e1ef-6cc7-4a57-9ca9-0640e19dfd8d button.colab-df-convert');\n",
              "        buttonEl.style.display =\n",
              "          google.colab.kernel.accessAllowed ? 'block' : 'none';\n",
              "\n",
              "        async function convertToInteractive(key) {\n",
              "          const element = document.querySelector('#df-2469e1ef-6cc7-4a57-9ca9-0640e19dfd8d');\n",
              "          const dataTable =\n",
              "            await google.colab.kernel.invokeFunction('convertToInteractive',\n",
              "                                                     [key], {});\n",
              "          if (!dataTable) return;\n",
              "\n",
              "          const docLinkHtml = 'Like what you see? Visit the ' +\n",
              "            '<a target=\"_blank\" href=https://colab.research.google.com/notebooks/data_table.ipynb>data table notebook</a>'\n",
              "            + ' to learn more about interactive tables.';\n",
              "          element.innerHTML = '';\n",
              "          dataTable['output_type'] = 'display_data';\n",
              "          await google.colab.output.renderOutput(dataTable, element);\n",
              "          const docLink = document.createElement('div');\n",
              "          docLink.innerHTML = docLinkHtml;\n",
              "          element.appendChild(docLink);\n",
              "        }\n",
              "      </script>\n",
              "    </div>\n",
              "  </div>\n",
              "  "
            ]
          },
          "metadata": {},
          "execution_count": 78
        }
      ]
    },
    {
      "cell_type": "code",
      "source": [
        "#Ajusto el indice de mi dataframe\n",
        "Filtro_index= Filtro.set_index('_created_by')\n",
        "Filtro_index"
      ],
      "metadata": {
        "colab": {
          "base_uri": "https://localhost:8080/",
          "height": 802
        },
        "id": "773VmAJ_-zEr",
        "outputId": "e11d470d-b7c2-4074-b545-c3039a40fd8f"
      },
      "execution_count": 79,
      "outputs": [
        {
          "output_type": "execute_result",
          "data": {
            "text/plain": [
              "                              frequency  percentage  cumulative_perc\n",
              "_created_by                                                         \n",
              "Adriel Antonio Huerta Vidal          40    0.102564         0.102564\n",
              "Mariana Sáenz Gómez Ortigoza         21    0.053846         0.156410\n",
              "María Pedraza                        21    0.053846         0.210256\n",
              "Juan Carlos Bejarano Moreno          21    0.053846         0.264103\n",
              "José López                           20    0.051282         0.315385\n",
              "Luis Gerardo Ramírez Lastra          19    0.048718         0.364103\n",
              "Gustavo Manzanilla                   18    0.046154         0.410256\n",
              "Diego Arrieta                        17    0.043590         0.453846\n",
              "Pedro Contreras                      17    0.043590         0.497436\n",
              "Julio Vázquez                        15    0.038462         0.535897\n",
              "Juan Chimas                          15    0.038462         0.574359\n",
              "Sandra Carreón                       13    0.033333         0.607692\n",
              "Leoncio Mora Díaz                    11    0.028205         0.635897\n",
              "Miguel López                         11    0.028205         0.664103\n",
              "Alejandro Matias                      9    0.023077         0.687179\n",
              "Carol Cázares                         9    0.023077         0.710256\n",
              "José Varela                           9    0.023077         0.733333\n",
              "Sergio Licea                          8    0.020513         0.753846\n",
              "Saúl Cuervo                           8    0.020513         0.774359\n",
              "Miguel Burgos                         7    0.017949         0.792308\n",
              "Fernando Báez                         7    0.017949         0.810256\n",
              "Hiram Arellano                        7    0.017949         0.828205\n",
              "Emilio Garza                          7    0.017949         0.846154"
            ],
            "text/html": [
              "\n",
              "  <div id=\"df-30d84de0-8e7b-4c79-a6fa-6cfa8d38abfb\">\n",
              "    <div class=\"colab-df-container\">\n",
              "      <div>\n",
              "<style scoped>\n",
              "    .dataframe tbody tr th:only-of-type {\n",
              "        vertical-align: middle;\n",
              "    }\n",
              "\n",
              "    .dataframe tbody tr th {\n",
              "        vertical-align: top;\n",
              "    }\n",
              "\n",
              "    .dataframe thead th {\n",
              "        text-align: right;\n",
              "    }\n",
              "</style>\n",
              "<table border=\"1\" class=\"dataframe\">\n",
              "  <thead>\n",
              "    <tr style=\"text-align: right;\">\n",
              "      <th></th>\n",
              "      <th>frequency</th>\n",
              "      <th>percentage</th>\n",
              "      <th>cumulative_perc</th>\n",
              "    </tr>\n",
              "    <tr>\n",
              "      <th>_created_by</th>\n",
              "      <th></th>\n",
              "      <th></th>\n",
              "      <th></th>\n",
              "    </tr>\n",
              "  </thead>\n",
              "  <tbody>\n",
              "    <tr>\n",
              "      <th>Adriel Antonio Huerta Vidal</th>\n",
              "      <td>40</td>\n",
              "      <td>0.102564</td>\n",
              "      <td>0.102564</td>\n",
              "    </tr>\n",
              "    <tr>\n",
              "      <th>Mariana Sáenz Gómez Ortigoza</th>\n",
              "      <td>21</td>\n",
              "      <td>0.053846</td>\n",
              "      <td>0.156410</td>\n",
              "    </tr>\n",
              "    <tr>\n",
              "      <th>María Pedraza</th>\n",
              "      <td>21</td>\n",
              "      <td>0.053846</td>\n",
              "      <td>0.210256</td>\n",
              "    </tr>\n",
              "    <tr>\n",
              "      <th>Juan Carlos Bejarano Moreno</th>\n",
              "      <td>21</td>\n",
              "      <td>0.053846</td>\n",
              "      <td>0.264103</td>\n",
              "    </tr>\n",
              "    <tr>\n",
              "      <th>José López</th>\n",
              "      <td>20</td>\n",
              "      <td>0.051282</td>\n",
              "      <td>0.315385</td>\n",
              "    </tr>\n",
              "    <tr>\n",
              "      <th>Luis Gerardo Ramírez Lastra</th>\n",
              "      <td>19</td>\n",
              "      <td>0.048718</td>\n",
              "      <td>0.364103</td>\n",
              "    </tr>\n",
              "    <tr>\n",
              "      <th>Gustavo Manzanilla</th>\n",
              "      <td>18</td>\n",
              "      <td>0.046154</td>\n",
              "      <td>0.410256</td>\n",
              "    </tr>\n",
              "    <tr>\n",
              "      <th>Diego Arrieta</th>\n",
              "      <td>17</td>\n",
              "      <td>0.043590</td>\n",
              "      <td>0.453846</td>\n",
              "    </tr>\n",
              "    <tr>\n",
              "      <th>Pedro Contreras</th>\n",
              "      <td>17</td>\n",
              "      <td>0.043590</td>\n",
              "      <td>0.497436</td>\n",
              "    </tr>\n",
              "    <tr>\n",
              "      <th>Julio Vázquez</th>\n",
              "      <td>15</td>\n",
              "      <td>0.038462</td>\n",
              "      <td>0.535897</td>\n",
              "    </tr>\n",
              "    <tr>\n",
              "      <th>Juan Chimas</th>\n",
              "      <td>15</td>\n",
              "      <td>0.038462</td>\n",
              "      <td>0.574359</td>\n",
              "    </tr>\n",
              "    <tr>\n",
              "      <th>Sandra Carreón</th>\n",
              "      <td>13</td>\n",
              "      <td>0.033333</td>\n",
              "      <td>0.607692</td>\n",
              "    </tr>\n",
              "    <tr>\n",
              "      <th>Leoncio Mora Díaz</th>\n",
              "      <td>11</td>\n",
              "      <td>0.028205</td>\n",
              "      <td>0.635897</td>\n",
              "    </tr>\n",
              "    <tr>\n",
              "      <th>Miguel López</th>\n",
              "      <td>11</td>\n",
              "      <td>0.028205</td>\n",
              "      <td>0.664103</td>\n",
              "    </tr>\n",
              "    <tr>\n",
              "      <th>Alejandro Matias</th>\n",
              "      <td>9</td>\n",
              "      <td>0.023077</td>\n",
              "      <td>0.687179</td>\n",
              "    </tr>\n",
              "    <tr>\n",
              "      <th>Carol Cázares</th>\n",
              "      <td>9</td>\n",
              "      <td>0.023077</td>\n",
              "      <td>0.710256</td>\n",
              "    </tr>\n",
              "    <tr>\n",
              "      <th>José Varela</th>\n",
              "      <td>9</td>\n",
              "      <td>0.023077</td>\n",
              "      <td>0.733333</td>\n",
              "    </tr>\n",
              "    <tr>\n",
              "      <th>Sergio Licea</th>\n",
              "      <td>8</td>\n",
              "      <td>0.020513</td>\n",
              "      <td>0.753846</td>\n",
              "    </tr>\n",
              "    <tr>\n",
              "      <th>Saúl Cuervo</th>\n",
              "      <td>8</td>\n",
              "      <td>0.020513</td>\n",
              "      <td>0.774359</td>\n",
              "    </tr>\n",
              "    <tr>\n",
              "      <th>Miguel Burgos</th>\n",
              "      <td>7</td>\n",
              "      <td>0.017949</td>\n",
              "      <td>0.792308</td>\n",
              "    </tr>\n",
              "    <tr>\n",
              "      <th>Fernando Báez</th>\n",
              "      <td>7</td>\n",
              "      <td>0.017949</td>\n",
              "      <td>0.810256</td>\n",
              "    </tr>\n",
              "    <tr>\n",
              "      <th>Hiram Arellano</th>\n",
              "      <td>7</td>\n",
              "      <td>0.017949</td>\n",
              "      <td>0.828205</td>\n",
              "    </tr>\n",
              "    <tr>\n",
              "      <th>Emilio Garza</th>\n",
              "      <td>7</td>\n",
              "      <td>0.017949</td>\n",
              "      <td>0.846154</td>\n",
              "    </tr>\n",
              "  </tbody>\n",
              "</table>\n",
              "</div>\n",
              "      <button class=\"colab-df-convert\" onclick=\"convertToInteractive('df-30d84de0-8e7b-4c79-a6fa-6cfa8d38abfb')\"\n",
              "              title=\"Convert this dataframe to an interactive table.\"\n",
              "              style=\"display:none;\">\n",
              "        \n",
              "  <svg xmlns=\"http://www.w3.org/2000/svg\" height=\"24px\"viewBox=\"0 0 24 24\"\n",
              "       width=\"24px\">\n",
              "    <path d=\"M0 0h24v24H0V0z\" fill=\"none\"/>\n",
              "    <path d=\"M18.56 5.44l.94 2.06.94-2.06 2.06-.94-2.06-.94-.94-2.06-.94 2.06-2.06.94zm-11 1L8.5 8.5l.94-2.06 2.06-.94-2.06-.94L8.5 2.5l-.94 2.06-2.06.94zm10 10l.94 2.06.94-2.06 2.06-.94-2.06-.94-.94-2.06-.94 2.06-2.06.94z\"/><path d=\"M17.41 7.96l-1.37-1.37c-.4-.4-.92-.59-1.43-.59-.52 0-1.04.2-1.43.59L10.3 9.45l-7.72 7.72c-.78.78-.78 2.05 0 2.83L4 21.41c.39.39.9.59 1.41.59.51 0 1.02-.2 1.41-.59l7.78-7.78 2.81-2.81c.8-.78.8-2.07 0-2.86zM5.41 20L4 18.59l7.72-7.72 1.47 1.35L5.41 20z\"/>\n",
              "  </svg>\n",
              "      </button>\n",
              "      \n",
              "  <style>\n",
              "    .colab-df-container {\n",
              "      display:flex;\n",
              "      flex-wrap:wrap;\n",
              "      gap: 12px;\n",
              "    }\n",
              "\n",
              "    .colab-df-convert {\n",
              "      background-color: #E8F0FE;\n",
              "      border: none;\n",
              "      border-radius: 50%;\n",
              "      cursor: pointer;\n",
              "      display: none;\n",
              "      fill: #1967D2;\n",
              "      height: 32px;\n",
              "      padding: 0 0 0 0;\n",
              "      width: 32px;\n",
              "    }\n",
              "\n",
              "    .colab-df-convert:hover {\n",
              "      background-color: #E2EBFA;\n",
              "      box-shadow: 0px 1px 2px rgba(60, 64, 67, 0.3), 0px 1px 3px 1px rgba(60, 64, 67, 0.15);\n",
              "      fill: #174EA6;\n",
              "    }\n",
              "\n",
              "    [theme=dark] .colab-df-convert {\n",
              "      background-color: #3B4455;\n",
              "      fill: #D2E3FC;\n",
              "    }\n",
              "\n",
              "    [theme=dark] .colab-df-convert:hover {\n",
              "      background-color: #434B5C;\n",
              "      box-shadow: 0px 1px 3px 1px rgba(0, 0, 0, 0.15);\n",
              "      filter: drop-shadow(0px 1px 2px rgba(0, 0, 0, 0.3));\n",
              "      fill: #FFFFFF;\n",
              "    }\n",
              "  </style>\n",
              "\n",
              "      <script>\n",
              "        const buttonEl =\n",
              "          document.querySelector('#df-30d84de0-8e7b-4c79-a6fa-6cfa8d38abfb button.colab-df-convert');\n",
              "        buttonEl.style.display =\n",
              "          google.colab.kernel.accessAllowed ? 'block' : 'none';\n",
              "\n",
              "        async function convertToInteractive(key) {\n",
              "          const element = document.querySelector('#df-30d84de0-8e7b-4c79-a6fa-6cfa8d38abfb');\n",
              "          const dataTable =\n",
              "            await google.colab.kernel.invokeFunction('convertToInteractive',\n",
              "                                                     [key], {});\n",
              "          if (!dataTable) return;\n",
              "\n",
              "          const docLinkHtml = 'Like what you see? Visit the ' +\n",
              "            '<a target=\"_blank\" href=https://colab.research.google.com/notebooks/data_table.ipynb>data table notebook</a>'\n",
              "            + ' to learn more about interactive tables.';\n",
              "          element.innerHTML = '';\n",
              "          dataTable['output_type'] = 'display_data';\n",
              "          await google.colab.output.renderOutput(dataTable, element);\n",
              "          const docLink = document.createElement('div');\n",
              "          docLink.innerHTML = docLinkHtml;\n",
              "          element.appendChild(docLink);\n",
              "        }\n",
              "      </script>\n",
              "    </div>\n",
              "  </div>\n",
              "  "
            ]
          },
          "metadata": {},
          "execution_count": 79
        }
      ]
    },
    {
      "cell_type": "code",
      "source": [
        "#Realizamos gráfico de barras del datarame filtrado\n",
        "Filtro_index.plot(kind = 'bar', width=1, figsize=(10,4))\n",
        "plt.title('Cumplieron el minimo individual')\n",
        "plt.xlabel('Tipo de tienda')\n",
        "plt.ylabel('Frecuencia')"
      ],
      "metadata": {
        "colab": {
          "base_uri": "https://localhost:8080/",
          "height": 459
        },
        "id": "okfu30_C--2f",
        "outputId": "1af5560b-b3c9-4aac-fbaa-c47765ced767"
      },
      "execution_count": 80,
      "outputs": [
        {
          "output_type": "execute_result",
          "data": {
            "text/plain": [
              "Text(0, 0.5, 'Frecuencia')"
            ]
          },
          "metadata": {},
          "execution_count": 80
        },
        {
          "output_type": "display_data",
          "data": {
            "text/plain": [
              "<Figure size 720x288 with 1 Axes>"
            ],
            "image/png": "[encoded data removed]"
          },
          "metadata": {
            "needs_background": "light"
          }
        }
      ]
    }
  ]
}